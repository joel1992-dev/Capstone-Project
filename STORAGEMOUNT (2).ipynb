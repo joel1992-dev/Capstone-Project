{
 "cells": [
  {
   "cell_type": "code",
   "execution_count": 0,
   "metadata": {
    "application/vnd.databricks.v1+cell": {
     "cellMetadata": {
      "byteLimit": 2048000,
      "rowLimit": 10000
     },
     "inputWidgets": {},
     "nuid": "b5f8c5c1-ade4-4d16-8232-9d694e055372",
     "showTitle": false,
     "tableResultSettingsMap": {},
     "title": ""
    }
   },
   "outputs": [
    {
     "output_type": "execute_result",
     "data": {
      "text/plain": [
       "True"
      ]
     },
     "execution_count": 18,
     "metadata": {},
     "output_type": "execute_result"
    }
   ],
   "source": [
    "configs = {\n",
    "  \"fs.azure.account.auth.type\": \"CustomAccessToken\",\n",
    "  \"fs.azure.account.custom.token.provider.class\": spark.conf.get(\"spark.databricks.passthrough.adls.gen2.tokenProviderClassName\")\n",
    "}\n",
    "\n",
    "dbutils.fs.mount(\n",
    "  source = \"abfss://learncontainer@projectlearnadls.dfs.core.windows.net/\",\n",
    "  mount_point = \"/mnt/nyc-jobs.csv\",\n",
    "  extra_configs = configs\n",
    ")"
   ]
  },
  {
   "cell_type": "code",
   "execution_count": 0,
   "metadata": {
    "application/vnd.databricks.v1+cell": {
     "cellMetadata": {
      "byteLimit": 2048000,
      "rowLimit": 10000
     },
     "inputWidgets": {},
     "nuid": "0f3700da-5651-4b4a-beb1-fba5e93beee7",
     "showTitle": false,
     "tableResultSettingsMap": {},
     "title": ""
    }
   },
   "outputs": [
    {
     "output_type": "execute_result",
     "data": {
      "text/plain": [
       "[MountInfo(mountPoint='/databricks-datasets', source='databricks-datasets', encryptionType=''),\n",
       " MountInfo(mountPoint='/Volumes', source='UnityCatalogVolumes', encryptionType=''),\n",
       " MountInfo(mountPoint='/mnt/nyc-jobs.csv', source='abfss://learncontainer@projectlearnadls.dfs.core.windows.net/', encryptionType=''),\n",
       " MountInfo(mountPoint='/databricks/mlflow-tracking', source='databricks/mlflow-tracking', encryptionType=''),\n",
       " MountInfo(mountPoint='/databricks-results', source='databricks-results', encryptionType=''),\n",
       " MountInfo(mountPoint='/databricks/mlflow-registry', source='databricks/mlflow-registry', encryptionType=''),\n",
       " MountInfo(mountPoint='/Volume', source='DbfsReserved', encryptionType=''),\n",
       " MountInfo(mountPoint='/volumes', source='DbfsReserved', encryptionType=''),\n",
       " MountInfo(mountPoint='/', source='DatabricksRoot', encryptionType=''),\n",
       " MountInfo(mountPoint='/volume', source='DbfsReserved', encryptionType='')]"
      ]
     },
     "execution_count": 20,
     "metadata": {},
     "output_type": "execute_result"
    }
   ],
   "source": [
    "dbutils.fs.mounts()"
   ]
  },
  {
   "cell_type": "code",
   "execution_count": 0,
   "metadata": {
    "application/vnd.databricks.v1+cell": {
     "cellMetadata": {
      "byteLimit": 2048000,
      "rowLimit": 10000
     },
     "inputWidgets": {},
     "nuid": "25550db7-0420-494a-bfd4-d65773a9dff5",
     "showTitle": false,
     "tableResultSettingsMap": {},
     "title": ""
    }
   },
   "outputs": [
    {
     "output_type": "execute_result",
     "data": {
      "text/plain": [
       "[FileInfo(path='dbfs:/mnt/nyc-jobs.csv/Raw Data/', name='Raw Data/', size=0, modificationTime=1749536497000)]"
      ]
     },
     "execution_count": 32,
     "metadata": {},
     "output_type": "execute_result"
    }
   ],
   "source": [
    "dbutils.fs.ls(\"/mnt/nyc-jobs.csv\")"
   ]
  },
  {
   "cell_type": "code",
   "execution_count": 0,
   "metadata": {
    "application/vnd.databricks.v1+cell": {
     "cellMetadata": {
      "byteLimit": 2048000,
      "rowLimit": 10000
     },
     "inputWidgets": {},
     "nuid": "1057e611-ef27-4ffa-9444-a0ef5105860a",
     "showTitle": false,
     "tableResultSettingsMap": {},
     "title": ""
    }
   },
   "outputs": [
    {
     "output_type": "stream",
     "name": "stdout",
     "output_type": "stream",
     "text": [
      "+------+--------------------+------------+--------------+--------------------+--------------------+-------------+-----+--------------------+-----------------------------+-----------------+---------------+----------------+--------------------+--------------------+--------------------+-------------------------+--------------------+----------------------+--------------------+--------------------+--------------------+--------------------+---------------------+--------------------+--------------------+--------------------+--------------------+\n|Job ID|              Agency|Posting Type|# Of Positions|      Business Title| Civil Service Title|Title Code No|Level|        Job Category|Full-Time/Part-Time indicator|Salary Range From|Salary Range To|Salary Frequency|       Work Location|  Division/Work Unit|     Job Description|Minimum Qual Requirements|    Preferred Skills|Additional Information|            To Apply|         Hours/Shift|     Work Location 1| Recruitment Contact|Residency Requirement|        Posting Date|          Post Until|     Posting Updated|        Process Date|\n+------+--------------------+------------+--------------+--------------------+--------------------+-------------+-----+--------------------+-----------------------------+-----------------+---------------+----------------+--------------------+--------------------+--------------------+-------------------------+--------------------+----------------------+--------------------+--------------------+--------------------+--------------------+---------------------+--------------------+--------------------+--------------------+--------------------+\n| 87990|DEPARTMENT OF BUS...|    Internal|             1|     Account Manager|CONTRACT REVIEWER...|        40563|    1|                NULL|                         NULL|          42405.0|        65485.0|          Annual| 110 William St. N Y|Strategy & Analytics|Division of Econo...|     \"1.\\tA baccalaure...| all candidates m...|  â€¢\\tExcellent in...|Salary range for ...|                NULL|                NULL|                NULL|                 NULL|New York City res...|2011-06-24T00:00:...|                NULL|2011-06-24T00:00:...|\n| 97899|DEPARTMENT OF BUS...|    Internal|             1|EXECUTIVE DIRECTO...|ADMINISTRATIVE BU...|        10009|   M3|                NULL|                            F|          60740.0|       162014.0|          Annual| 110 William St. N Y|Tech Talent Pipeline|The New York City...|     \"1. A baccalaurea...|                NULL|                  NULL|In addition to ap...|                NULL|                NULL|                NULL| New York City res...|2012-01-26T00:00:...|                NULL|2012-01-26T00:00:...|2019-07-23T00:00:...|\n|132292|NYC HOUSING AUTHO...|    External|            52|Maintenance Worke...|  MAINTENANCE WORKER|        90698|    0|Maintenance & Ope...|                            F|         51907.68|       54580.32|          Annual|Heating Mgt-Opera...|Management Servic...|Under direct supe...|     \"1. Three years o...|          mechanical|   or construction ...| may be substitut...| all candidates m...|1.  A High School...|1.  A Motor Vehic...| \"Click the \"\"Appl...|                NULL|                NULL|                NULL|NYCHA has no resi...|\n|132292|NYC HOUSING AUTHO...|    Internal|            52|Maintenance Worke...|  MAINTENANCE WORKER|        90698|    0|Maintenance & Ope...|                            F|         51907.68|       54580.32|          Annual|Heating Mgt-Opera...|Management Servic...|Under direct supe...|     \"1. Three years o...|          mechanical|   or construction ...| may be substitut...| all candidates m...|1.  A High School...|1.  A Motor Vehic...| \"Click the \"\"Appl...|                NULL|                NULL|                NULL|NYCHA has no resi...|\n|133921|NYC HOUSING AUTHO...|    Internal|            50|   Temporary Painter|             PAINTER|        91830|    0|Maintenance & Ope...|                            F|             35.0|           35.0|          Hourly|DMP-Contract & An...|Dept of Managemen...|Responsibilities ...|     1. Five years of ...|                NULL|  SPECIAL NOTE:    ...|\"Click the \"\"Appl...|                NULL|                NULL|                NULL| NYCHA has no resi...|2014-01-09T00:00:...|                NULL|2014-01-08T00:00:...|2019-07-23T00:00:...|\n|133921|NYC HOUSING AUTHO...|    External|            50|   Temporary Painter|             PAINTER|        91830|    0|Maintenance & Ope...|                            F|             35.0|           35.0|          Hourly|DMP-Contract & An...|Dept of Managemen...|Responsibilities ...|     1. Five years of ...|                NULL|  SPECIAL NOTE:    ...|\"Click the \"\"Appl...|                NULL|                NULL|                NULL| NYCHA has no resi...|2014-01-09T00:00:...|                NULL|2014-01-08T00:00:...|2019-07-23T00:00:...|\n|137433|DEPT OF HEALTH/ME...|    Internal|             1|    Contract Analyst| PROCUREMENT ANALYST|        12158|    3|Finance, Accounti...|                            F|          50598.0|        85053.0|          Annual|   42-09 28th Street|  HIV Administration|** OPEN TO PERMAN...|     \"1. A baccalaurea...| individuals must...|   after meeting th...| either one year ...| at least one yea...| or spent perform...|Strong analytical...|                 NULL|Apply online with...|                NULL|42-09 28th Street...|                NULL|\n|138531|DEPT OF ENVIRONME...|    Internal|             1|   Associate Chemist|   ASSOCIATE CHEMIST|        21822|    2|Health Public Saf...|                            F|          50623.0|        75083.0|          Annual|96-05 Horace Hard...|    DWOC Labs-Lefrak|Working in the Di...|     Qualification Req...|In order to apply...|                  NULL|\"Click the \"\"Appl...|35 Hours per week...|96-05 Horace Hard...|                NULL| New York City res...|2013-12-20T00:00:...|                NULL|2014-07-25T00:00:...|2019-07-23T00:00:...|\n|151131|NYC HOUSING AUTHO...|    External|             1|Cost Estimating M...|ADMINISTRATIVE ST...|        1002D|    0|Engineering, Arch...|                            F|          90000.0|       110000.0|          Annual|CP Cap Plan-Techn...|Capital Planning ...|Reporting to the ...|     \"1. A master's de...| including the 18...|            managerial| administrative o...| as described in ...|1.  Five years of...|SPECIAL INSTRUCTI...| \"Click the \"\"Appl...|                NULL|                NULL|                NULL|NYCHA has no resi...|\n|151937|NYC HOUSING AUTHO...|    Internal|             4|Assistant Project...|ASSOCIATE PROJECT...|        22427|    2|Engineering, Arch...|                            F|          62942.0|        92249.0|          Annual|Office for Exec P...|Project Mgmt Dept...|The Assistant Pro...|     \"One year of full...| candidates must ...|  1.  Five (5) plus...|SPECIAL INSTRUCTI...|\"Click the \"\"Appl...|                NULL|                NULL|                 NULL|NYCHA has no resi...|2014-08-16T00:00:...|                NULL|2014-10-15T00:00:...|\n+------+--------------------+------------+--------------+--------------------+--------------------+-------------+-----+--------------------+-----------------------------+-----------------+---------------+----------------+--------------------+--------------------+--------------------+-------------------------+--------------------+----------------------+--------------------+--------------------+--------------------+--------------------+---------------------+--------------------+--------------------+--------------------+--------------------+\nonly showing top 10 rows\n\n"
     ]
    }
   ],
   "source": [
    "df = spark.read.csv(\"/mnt/nyc-jobs.csv/Raw Data\", header=True, inferSchema=True)\n",
    "df.show(10)"
   ]
  },
  {
   "cell_type": "code",
   "execution_count": 0,
   "metadata": {
    "application/vnd.databricks.v1+cell": {
     "cellMetadata": {
      "byteLimit": 2048000,
      "rowLimit": 10000
     },
     "inputWidgets": {},
     "nuid": "db4d5797-1aac-4ac2-8a00-3142d24c4738",
     "showTitle": false,
     "tableResultSettingsMap": {},
     "title": ""
    }
   },
   "outputs": [],
   "source": [
    "# Filter the DataFrame for full-time jobs\n",
    "configs = {\n",
    "  \"fs.azure.account.auth.type\": \"CustomAccessToken\",\n",
    "  \"fs.azure.account.custom.token.provider.class\": spark.conf.get(\"spark.databricks.passthrough.adls.gen2.tokenProviderClassName\")\n",
    "}\n",
    "df = df.filter(df[\"Full-Time/Part-Time indicator\"] == \"F\")\n",
    "\n",
    "# Write the filtered DataFrame to Azure Blob Storage in CSV format using the access key\n",
    "df.coalesce(1).write.mode(\"overwrite\").csv(\n",
    "    \"abfss://learncontainer@projectlearnadls.dfs.core.windows.net/transformed-data\",\n",
    "    header=True\n",
    ")"
   ]
  }
 ],
 "metadata": {
  "application/vnd.databricks.v1+notebook": {
   "computePreferences": null,
   "dashboards": [],
   "environmentMetadata": {
    "base_environment": "",
    "environment_version": "2"
   },
   "inputWidgetPreferences": null,
   "language": "python",
   "notebookMetadata": {
    "pythonIndentUnit": 4
   },
   "notebookName": "STORAGEMOUNT",
   "widgets": {}
  },
  "language_info": {
   "name": "python"
  }
 },
 "nbformat": 4,
 "nbformat_minor": 0
}